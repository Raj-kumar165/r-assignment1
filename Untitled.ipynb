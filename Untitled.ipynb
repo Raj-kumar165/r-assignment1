{
 "cells": [
  {
   "cell_type": "code",
   "execution_count": 5,
   "metadata": {},
   "outputs": [
    {
     "name": "stdout",
     "output_type": "stream",
     "text": [
      "Twinkle, twinkle, little star,\n",
      "\tHow I wonder what you are!\n",
      "\t\t\tUp above the world so high\n",
      "\t\t\tLike a diamond in the sky.\n",
      "Twinkle, twinkle, little star,\n",
      "\tHow I wonder what you are\n"
     ]
    }
   ],
   "source": [
    "print(\"Twinkle, twinkle, little star,\\n\\tHow I wonder what you are!\\n\\t\\t\\tUp above the world so high\\n\\t\\t\\tLike a diamond in the sky.\\nTwinkle, twinkle, little star,\\n\\tHow I wonder what you are\");"
   ]
  },
  {
   "cell_type": "code",
   "execution_count": 4,
   "metadata": {},
   "outputs": [
    {
     "name": "stdout",
     "output_type": "stream",
     "text": [
      "Twinkle, twinkle, little star,\n",
      "\tHow I wonder what you are!\n",
      "\t\t\tUp above the world so high\n",
      "\t\t\tLike a diamond in the sky.\n",
      "Twinkle, twinkle, little star,\n",
      "\tHow I wonder what you are\n"
     ]
    }
   ],
   "source": [
    "print(\"Twinkle, twinkle, little star,\\n\\tHow I wonder what you are!\\n\\t\\t\\tUp above the world so high\\n\\t\\t\\tLike a diamond in the sky.\\nTwinkle, twinkle, little star,\\n\\tHow I wonder what you are\");"
   ]
  },
  {
   "cell_type": "code",
   "execution_count": 6,
   "metadata": {},
   "outputs": [
    {
     "name": "stdout",
     "output_type": "stream",
     "text": [
      "Python version\n",
      "3.7.4 (default, Aug  9 2019, 18:34:13) [MSC v.1915 64 bit (AMD64)]\n"
     ]
    }
   ],
   "source": [
    "import sys\n",
    "print(\"Python version\")\n",
    "print (sys.version)"
   ]
  },
  {
   "cell_type": "code",
   "execution_count": 7,
   "metadata": {},
   "outputs": [
    {
     "name": "stdout",
     "output_type": "stream",
     "text": [
      "2019-11-05 00:09:21.295860\n"
     ]
    }
   ],
   "source": [
    "import datetime\n",
    "datetime_ob = datetime.datetime.today()\n",
    "print(datetime_ob)"
   ]
  },
  {
   "cell_type": "code",
   "execution_count": 8,
   "metadata": {},
   "outputs": [
    {
     "name": "stdout",
     "output_type": "stream",
     "text": [
      " Enter radius of the circle = 5\n",
      "Area of the circle is : 78.5\n"
     ]
    }
   ],
   "source": [
    "r =float(input(\" Enter radius of the circle = \"))\n",
    "Area = 3.14*r**2\n",
    "print(\"Area of the circle is : %s\" %Area)"
   ]
  },
  {
   "cell_type": "raw",
   "metadata": {},
   "source": []
  },
  {
   "cell_type": "markdown",
   "metadata": {},
   "source": [
    "fn=input(\"Enter your first name = \")\n",
    "ln=input(\"Enter your last name = \")\n",
    "print(\"Name in revefn=input(\"Enter your first name = \")\n",
    "ln=input(\"Enter your last name = \")\n",
    "print(\"Name in reverse = \",ln + \" \" + fn)rse = \",ln + \" \" + fn)"
   ]
  },
  {
 "cells": [
  {
   "cell_type": "code",
   "execution_count": 2,
   "metadata": {},
   "outputs": [
    {
     "name": "stdout",
     "output_type": "stream",
     "text": [
      "your first nameRaj\n",
      "Your Last nameKumar\n",
      "ramuK jaR\n"
     ]
    }
   ],
   "source": [
    "first_name= input(\"your first name\")\n",
    "Last_name = input(\"Your Last name\")\n",
    "txt= (first_name+ \" \"+ Last_name)[::-1]\n",
    "print(txt)"
   ]
  },
{
   "cell_type": "code",
   "execution_count": 16,
   "metadata": {},
   "outputs": [
    {
     "name": "stdout",
     "output_type": "stream",
     "text": [
      "first number3\n",
      "second number2\n",
      "5\n"
     ]
    }
   ],
   "source": [
    "A=int(input(\"first number\"))\n",
    "B=int(input(\"second number\"))\n",
    "C=A+B\n",
    "print(int(C))"
   ]
  },
